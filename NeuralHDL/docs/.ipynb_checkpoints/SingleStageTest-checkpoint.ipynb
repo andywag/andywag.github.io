{
 "cells": [
  {
   "cell_type": "markdown",
   "metadata": {},
   "source": [
    "# Simple Network with Single Stage and Error "
   ]
  },
  {
   "cell_type": "markdown",
   "metadata": {},
   "source": [
    "This example contains a simple single stage neural network with 6 inputs and 12 outputs. It is based on a simple example found on the internet for detecting brail characters. The purpose of this example is to show the error updates for a single network stage. A single stage is not capable of handling this example well. \n",
    "\n"
   ]
  },
  {
   "cell_type": "markdown",
   "metadata": {},
   "source": [
    "## Hardware Details"
   ]
  },
  {
   "cell_type": "markdown",
   "metadata": {},
   "source": [
    "The hardware block for this structure is simple and consists of 3 main units. \n",
    "\n",
    "1. Memory Unit  : Containing separate memories for the data/tap and bias\n",
    "1. Neural Stage : Containing a set of neurons which are shared for the calculation\n",
    "1. Error Stage  : Containing a calculation of the expected data vs input data\n"
   ]
  },
  {
   "cell_type": "markdown",
   "metadata": {},
   "source": [
    "## Code Generator Details"
   ]
  },
  {
   "cell_type": "markdown",
   "metadata": {},
   "source": [
    "The code used for this "
   ]
  }
 ],
 "metadata": {
  "kernelspec": {
   "display_name": "Python 3",
   "language": "python",
   "name": "python3"
  },
  "language_info": {
   "codemirror_mode": {
    "name": "ipython",
    "version": 3
   },
   "file_extension": ".py",
   "mimetype": "text/x-python",
   "name": "python",
   "nbconvert_exporter": "python",
   "pygments_lexer": "ipython3",
   "version": "3.6.1"
  }
 },
 "nbformat": 4,
 "nbformat_minor": 1
}
